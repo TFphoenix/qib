{
 "cells": [
  {
   "cell_type": "markdown",
   "id": "bbb36285",
   "metadata": {},
   "source": [
    "# Atomic and molecular integral with pySCF"
   ]
  },
  {
   "cell_type": "code",
   "execution_count": 1,
   "id": "a4c0d202",
   "metadata": {},
   "outputs": [],
   "source": [
    "import numpy as np\n",
    "from pyscf import gto, scf, ao2mo"
   ]
  },
  {
   "cell_type": "code",
   "execution_count": 2,
   "id": "d5cb186b",
   "metadata": {},
   "outputs": [],
   "source": [
    "import qib"
   ]
  },
  {
   "cell_type": "markdown",
   "id": "22b8c86f",
   "metadata": {},
   "source": [
    "### Construct the molecule"
   ]
  },
  {
   "cell_type": "code",
   "execution_count": 3,
   "id": "297ee8af",
   "metadata": {},
   "outputs": [
    {
     "data": {
      "text/plain": [
       "<pyscf.gto.mole.Mole at 0x7fc6b9d6a260>"
      ]
     },
     "execution_count": 3,
     "metadata": {},
     "output_type": "execute_result"
    }
   ],
   "source": [
    "atom = '''H 0 0 0; H 0 0 0.735'''\n",
    "basis = 'sto-6g'\n",
    "unit = 'angstrom'\n",
    "charge = 0\n",
    "spin = 0\n",
    "verbose = 0\n",
    "\n",
    "mol = gto.Mole()\n",
    "mol.build(atom    = atom,\n",
    "          basis   = basis,\n",
    "          charge  = charge,\n",
    "          spin    = spin,\n",
    "          unit    = unit,\n",
    "          verbose = verbose)"
   ]
  },
  {
   "cell_type": "markdown",
   "id": "f4ee176a",
   "metadata": {},
   "source": [
    "### Create the atomic integrals"
   ]
  },
  {
   "cell_type": "code",
   "execution_count": 9,
   "id": "5f5e85ec",
   "metadata": {},
   "outputs": [],
   "source": [
    "# costant energy term (nuclear repulsion and kinetic term)\n",
    "h0 = mol.get_enuc()\n",
    "# one body integral in the spin-orbital basis (electronic kinetic term and electronic-nuclear attraction)\n",
    "h1 = np.kron(mol.get_hcore(), np.identity(2))\n",
    "# two body integral in the spin-orbital basis (electronic repulsion)\n",
    "h2 = mol.intor('int2e_spinor')\n",
    "\n",
    "# create a MolecularHamiltonian object starting from the atomic integrals\n",
    "latt = qib.lattice.LayeredLattice(qib.lattice.FullyConnectedLattice((2,)), 2)\n",
    "field = qib.field.Field(qib.field.ParticleType.FERMION, latt)\n",
    "H = qib.operator.MolecularHamiltonian(field, h0, h1, h2.transpose(0, 2, 1, 3))"
   ]
  },
  {
   "cell_type": "code",
   "execution_count": 10,
   "id": "84222ae1",
   "metadata": {},
   "outputs": [
    {
     "name": "stdout",
     "output_type": "stream",
     "text": [
      "  (0, 0)\t(0.7199689944489797+0j)\n",
      "  (1, 1)\t(-0.4084740771933558+0j)\n",
      "  (1, 4)\t(-0.9679805651651898+0j)\n",
      "  (2, 2)\t(-0.4084740771933558+0j)\n",
      "  (2, 8)\t(-0.9679805651651898+0j)\n",
      "  (3, 3)\t(-0.7619186275380483+0j)\n",
      "  (3, 6)\t(0.5207162000150318+0j)\n",
      "  (3, 9)\t(-0.5207162000150318+0j)\n",
      "  (3, 12)\t(0.30060831485471257+0j)\n",
      "  (4, 1)\t(-0.9679805651651898+0j)\n",
      "  (4, 4)\t(-0.4084740771933558+0j)\n",
      "  (5, 5)\t(-1.2656469256394343+0j)\n",
      "  (6, 3)\t(0.520716200015032+0j)\n",
      "  (6, 6)\t(-0.9650386107847218+0j)\n",
      "  (6, 9)\t(-0.30060831485471257+0j)\n",
      "  (6, 12)\t(0.520716200015032+0j)\n",
      "  (7, 7)\t(-1.0472129379331578+0j)\n",
      "  (7, 13)\t(0.07345183486487394+0j)\n",
      "  (8, 2)\t(-0.9679805651651898+0j)\n",
      "  (8, 8)\t(-0.4084740771933558+0j)\n",
      "  (9, 3)\t(-0.520716200015032+0j)\n",
      "  (9, 6)\t(-0.30060831485471257+0j)\n",
      "  (9, 9)\t(-0.9650386107847218+0j)\n",
      "  (9, 12)\t(-0.520716200015032+0j)\n",
      "  (10, 10)\t(-1.2656469256394343+0j)\n",
      "  (11, 11)\t(-1.047212937933158+0j)\n",
      "  (11, 14)\t(0.073451834864874+0j)\n",
      "  (12, 3)\t(0.30060831485471257+0j)\n",
      "  (12, 6)\t(0.5207162000150318+0j)\n",
      "  (12, 9)\t(-0.5207162000150318+0j)\n",
      "  (12, 12)\t(-0.7619186275380483+0j)\n",
      "  (13, 7)\t(0.073451834864874+0j)\n",
      "  (13, 13)\t(-1.0472129379331572+0j)\n",
      "  (14, 11)\t(0.07345183486487403+0j)\n",
      "  (14, 14)\t(-1.0472129379331574+0j)\n",
      "  (15, 15)\t(-0.5575087270306238+0j)\n"
     ]
    }
   ],
   "source": [
    "print(H.as_matrix())"
   ]
  },
  {
   "cell_type": "markdown",
   "id": "02556141",
   "metadata": {},
   "source": [
    "### Hartree-Fock calculation"
   ]
  },
  {
   "cell_type": "code",
   "execution_count": 11,
   "id": "369c15ef",
   "metadata": {},
   "outputs": [
    {
     "name": "stdout",
     "output_type": "stream",
     "text": [
      "[[ 0.5483259   1.21806548]\n",
      " [ 0.5483259  -1.21806548]]\n"
     ]
    }
   ],
   "source": [
    "# RHF == restricted HF (look also ROHF, UHF...)\n",
    "mf = scf.RHF(mol)\n",
    "# performs the HF calculation\n",
    "mf.kernel()\n",
    "# gets the coefficient matrix for the molecular orbitals\n",
    "coeff = mf.mo_coeff\n",
    "print(coeff)"
   ]
  },
  {
   "cell_type": "markdown",
   "id": "bb11db1e",
   "metadata": {},
   "source": [
    "### Molecular integrals"
   ]
  },
  {
   "cell_type": "code",
   "execution_count": 12,
   "id": "f942b88f",
   "metadata": {},
   "outputs": [
    {
     "name": "stdout",
     "output_type": "stream",
     "text": [
      "[[-1.26062688e+00  0.00000000e+00 -3.33066907e-16  0.00000000e+00]\n",
      " [ 0.00000000e+00 -1.26062688e+00  0.00000000e+00 -3.33066907e-16]\n",
      " [-1.11022302e-16  0.00000000e+00 -4.76151148e-01  0.00000000e+00]\n",
      " [ 0.00000000e+00 -1.11022302e-16  0.00000000e+00 -4.76151148e-01]]\n",
      "[[[[ 6.75656092e-01+0.j  0.00000000e+00+0.j -2.77555756e-17+0.j\n",
      "     0.00000000e+00+0.j]\n",
      "   [ 0.00000000e+00+0.j  6.75656092e-01+0.j  0.00000000e+00+0.j\n",
      "    -2.77555756e-17+0.j]\n",
      "   [ 2.77555756e-17+0.j  0.00000000e+00+0.j  6.65257654e-01+0.j\n",
      "     0.00000000e+00+0.j]\n",
      "   [ 0.00000000e+00+0.j  2.77555756e-17+0.j  0.00000000e+00+0.j\n",
      "     6.65257654e-01+0.j]]\n",
      "\n",
      "  [[ 0.00000000e+00+0.j  0.00000000e+00+0.j  0.00000000e+00+0.j\n",
      "     0.00000000e+00+0.j]\n",
      "   [ 0.00000000e+00+0.j  0.00000000e+00+0.j  0.00000000e+00+0.j\n",
      "     0.00000000e+00+0.j]\n",
      "   [ 0.00000000e+00+0.j  0.00000000e+00+0.j  0.00000000e+00+0.j\n",
      "     0.00000000e+00+0.j]\n",
      "   [ 0.00000000e+00+0.j  0.00000000e+00+0.j  0.00000000e+00+0.j\n",
      "     0.00000000e+00+0.j]]\n",
      "\n",
      "  [[ 2.77555756e-17+0.j  0.00000000e+00+0.j  1.81218043e-01+0.j\n",
      "     0.00000000e+00+0.j]\n",
      "   [ 0.00000000e+00+0.j  2.77555756e-17+0.j  0.00000000e+00+0.j\n",
      "     1.81218043e-01+0.j]\n",
      "   [ 1.81218043e-01+0.j  0.00000000e+00+0.j  2.22044605e-16+0.j\n",
      "     0.00000000e+00+0.j]\n",
      "   [ 0.00000000e+00+0.j  1.81218043e-01+0.j  0.00000000e+00+0.j\n",
      "     2.22044605e-16+0.j]]\n",
      "\n",
      "  [[ 0.00000000e+00+0.j  0.00000000e+00+0.j  0.00000000e+00+0.j\n",
      "     0.00000000e+00+0.j]\n",
      "   [ 0.00000000e+00+0.j  0.00000000e+00+0.j  0.00000000e+00+0.j\n",
      "     0.00000000e+00+0.j]\n",
      "   [ 0.00000000e+00+0.j  0.00000000e+00+0.j  0.00000000e+00+0.j\n",
      "     0.00000000e+00+0.j]\n",
      "   [ 0.00000000e+00+0.j  0.00000000e+00+0.j  0.00000000e+00+0.j\n",
      "     0.00000000e+00+0.j]]]\n",
      "\n",
      "\n",
      " [[[ 0.00000000e+00+0.j  0.00000000e+00+0.j  0.00000000e+00+0.j\n",
      "     0.00000000e+00+0.j]\n",
      "   [ 0.00000000e+00+0.j  0.00000000e+00+0.j  0.00000000e+00+0.j\n",
      "     0.00000000e+00+0.j]\n",
      "   [ 0.00000000e+00+0.j  0.00000000e+00+0.j  0.00000000e+00+0.j\n",
      "     0.00000000e+00+0.j]\n",
      "   [ 0.00000000e+00+0.j  0.00000000e+00+0.j  0.00000000e+00+0.j\n",
      "     0.00000000e+00+0.j]]\n",
      "\n",
      "  [[ 6.75656092e-01+0.j  0.00000000e+00+0.j -2.77555756e-17+0.j\n",
      "     0.00000000e+00+0.j]\n",
      "   [ 0.00000000e+00+0.j  6.75656092e-01+0.j  0.00000000e+00+0.j\n",
      "    -2.77555756e-17+0.j]\n",
      "   [ 2.77555756e-17+0.j  0.00000000e+00+0.j  6.65257654e-01+0.j\n",
      "     0.00000000e+00+0.j]\n",
      "   [ 0.00000000e+00+0.j  2.77555756e-17+0.j  0.00000000e+00+0.j\n",
      "     6.65257654e-01+0.j]]\n",
      "\n",
      "  [[ 0.00000000e+00+0.j  0.00000000e+00+0.j  0.00000000e+00+0.j\n",
      "     0.00000000e+00+0.j]\n",
      "   [ 0.00000000e+00+0.j  0.00000000e+00+0.j  0.00000000e+00+0.j\n",
      "     0.00000000e+00+0.j]\n",
      "   [ 0.00000000e+00+0.j  0.00000000e+00+0.j  0.00000000e+00+0.j\n",
      "     0.00000000e+00+0.j]\n",
      "   [ 0.00000000e+00+0.j  0.00000000e+00+0.j  0.00000000e+00+0.j\n",
      "     0.00000000e+00+0.j]]\n",
      "\n",
      "  [[ 2.77555756e-17+0.j  0.00000000e+00+0.j  1.81218043e-01+0.j\n",
      "     0.00000000e+00+0.j]\n",
      "   [ 0.00000000e+00+0.j  2.77555756e-17+0.j  0.00000000e+00+0.j\n",
      "     1.81218043e-01+0.j]\n",
      "   [ 1.81218043e-01+0.j  0.00000000e+00+0.j  2.22044605e-16+0.j\n",
      "     0.00000000e+00+0.j]\n",
      "   [ 0.00000000e+00+0.j  1.81218043e-01+0.j  0.00000000e+00+0.j\n",
      "     2.22044605e-16+0.j]]]\n",
      "\n",
      "\n",
      " [[[ 5.55111512e-17+0.j  0.00000000e+00+0.j  1.81218043e-01+0.j\n",
      "     0.00000000e+00+0.j]\n",
      "   [ 0.00000000e+00+0.j  5.55111512e-17+0.j  0.00000000e+00+0.j\n",
      "     1.81218043e-01+0.j]\n",
      "   [ 1.81218043e-01+0.j  0.00000000e+00+0.j  0.00000000e+00+0.j\n",
      "     0.00000000e+00+0.j]\n",
      "   [ 0.00000000e+00+0.j  1.81218043e-01+0.j  0.00000000e+00+0.j\n",
      "     0.00000000e+00+0.j]]\n",
      "\n",
      "  [[ 0.00000000e+00+0.j  0.00000000e+00+0.j  0.00000000e+00+0.j\n",
      "     0.00000000e+00+0.j]\n",
      "   [ 0.00000000e+00+0.j  0.00000000e+00+0.j  0.00000000e+00+0.j\n",
      "     0.00000000e+00+0.j]\n",
      "   [ 0.00000000e+00+0.j  0.00000000e+00+0.j  0.00000000e+00+0.j\n",
      "     0.00000000e+00+0.j]\n",
      "   [ 0.00000000e+00+0.j  0.00000000e+00+0.j  0.00000000e+00+0.j\n",
      "     0.00000000e+00+0.j]]\n",
      "\n",
      "  [[ 6.65257654e-01+0.j  0.00000000e+00+0.j  1.11022302e-16+0.j\n",
      "     0.00000000e+00+0.j]\n",
      "   [ 0.00000000e+00+0.j  6.65257654e-01+0.j  0.00000000e+00+0.j\n",
      "     1.11022302e-16+0.j]\n",
      "   [ 0.00000000e+00+0.j  0.00000000e+00+0.j  7.00178224e-01+0.j\n",
      "     0.00000000e+00+0.j]\n",
      "   [ 0.00000000e+00+0.j  0.00000000e+00+0.j  0.00000000e+00+0.j\n",
      "     7.00178224e-01+0.j]]\n",
      "\n",
      "  [[ 0.00000000e+00+0.j  0.00000000e+00+0.j  0.00000000e+00+0.j\n",
      "     0.00000000e+00+0.j]\n",
      "   [ 0.00000000e+00+0.j  0.00000000e+00+0.j  0.00000000e+00+0.j\n",
      "     0.00000000e+00+0.j]\n",
      "   [ 0.00000000e+00+0.j  0.00000000e+00+0.j  0.00000000e+00+0.j\n",
      "     0.00000000e+00+0.j]\n",
      "   [ 0.00000000e+00+0.j  0.00000000e+00+0.j  0.00000000e+00+0.j\n",
      "     0.00000000e+00+0.j]]]\n",
      "\n",
      "\n",
      " [[[ 0.00000000e+00+0.j  0.00000000e+00+0.j  0.00000000e+00+0.j\n",
      "     0.00000000e+00+0.j]\n",
      "   [ 0.00000000e+00+0.j  0.00000000e+00+0.j  0.00000000e+00+0.j\n",
      "     0.00000000e+00+0.j]\n",
      "   [ 0.00000000e+00+0.j  0.00000000e+00+0.j  0.00000000e+00+0.j\n",
      "     0.00000000e+00+0.j]\n",
      "   [ 0.00000000e+00+0.j  0.00000000e+00+0.j  0.00000000e+00+0.j\n",
      "     0.00000000e+00+0.j]]\n",
      "\n",
      "  [[ 5.55111512e-17+0.j  0.00000000e+00+0.j  1.81218043e-01+0.j\n",
      "     0.00000000e+00+0.j]\n",
      "   [ 0.00000000e+00+0.j  5.55111512e-17+0.j  0.00000000e+00+0.j\n",
      "     1.81218043e-01+0.j]\n",
      "   [ 1.81218043e-01+0.j  0.00000000e+00+0.j  0.00000000e+00+0.j\n",
      "     0.00000000e+00+0.j]\n",
      "   [ 0.00000000e+00+0.j  1.81218043e-01+0.j  0.00000000e+00+0.j\n",
      "     0.00000000e+00+0.j]]\n",
      "\n",
      "  [[ 0.00000000e+00+0.j  0.00000000e+00+0.j  0.00000000e+00+0.j\n",
      "     0.00000000e+00+0.j]\n",
      "   [ 0.00000000e+00+0.j  0.00000000e+00+0.j  0.00000000e+00+0.j\n",
      "     0.00000000e+00+0.j]\n",
      "   [ 0.00000000e+00+0.j  0.00000000e+00+0.j  0.00000000e+00+0.j\n",
      "     0.00000000e+00+0.j]\n",
      "   [ 0.00000000e+00+0.j  0.00000000e+00+0.j  0.00000000e+00+0.j\n",
      "     0.00000000e+00+0.j]]\n",
      "\n",
      "  [[ 6.65257654e-01+0.j  0.00000000e+00+0.j  1.11022302e-16+0.j\n",
      "     0.00000000e+00+0.j]\n",
      "   [ 0.00000000e+00+0.j  6.65257654e-01+0.j  0.00000000e+00+0.j\n",
      "     1.11022302e-16+0.j]\n",
      "   [ 0.00000000e+00+0.j  0.00000000e+00+0.j  7.00178224e-01+0.j\n",
      "     0.00000000e+00+0.j]\n",
      "   [ 0.00000000e+00+0.j  0.00000000e+00+0.j  0.00000000e+00+0.j\n",
      "     7.00178224e-01+0.j]]]]\n"
     ]
    }
   ],
   "source": [
    "spin_coeff = np.kron(coeff, np.identity(2))\n",
    "h1_mo = np.einsum('ji,jk,kl->il', spin_coeff.conj(), h1, spin_coeff)\n",
    "h2_mo = np.einsum('pqrs,pi,qj,rk,sl->ijkl', h2, spin_coeff, spin_coeff, spin_coeff, spin_coeff)\n",
    "H.tkin = h1_mo\n",
    "H.vint = h2_mo.transpose(0, 2, 3, 1)\n",
    "print(h1_mo)\n",
    "print(h2_mo)"
   ]
  },
  {
   "cell_type": "markdown",
   "id": "03ab1f5f",
   "metadata": {},
   "source": [
    "### Jordan-Wigner mapping"
   ]
  },
  {
   "cell_type": "code",
   "execution_count": 13,
   "id": "3924965e",
   "metadata": {},
   "outputs": [
    {
     "name": "stdout",
     "output_type": "stream",
     "text": [
      "Pauli operator consisting of weighted Pauli strings\n",
      " (-0.09820181960059482+0j)*IIII\n",
      "  (0.17407509959369882+0j)*ZIII\n",
      "  (0.17407509959369882+0j)*IZII\n",
      " (-0.22429329823657265+0j)*IIZI\n",
      "  (-0.2242932982365726+0j)*IIIZ\n",
      "  (0.16891402311629494+0j)*ZZII\n",
      "  (0.12100990274925519+0j)*ZIZI\n",
      "  (0.16631441337615077+0j)*ZIIZ\n",
      " (0.045304510626895576+0j)*XYYX\n",
      "(-0.045304510626895576+0j)*YYXX\n",
      "(-0.045304510626895576+0j)*XXYY\n",
      " (0.045304510626895576+0j)*YXXY\n",
      "  (0.16631441337615077+0j)*IZZI\n",
      "  (0.12100990274925519+0j)*IZIZ\n",
      "  (0.17504455596821475+0j)*IIZZ\n",
      "\n"
     ]
    }
   ],
   "source": [
    "pauli_op = qib.transform.jordan_wigner_encode_field_operator(H.as_field_operator())\n",
    "\n",
    "# We must assign a lattice to the pauli operator and the number of sites in the lattice must be exactly like the size of the Pauli strings\n",
    "field_q = qib.field.Field(qib.field.ParticleType.QUBIT, qib.lattice.LayeredLattice(qib.lattice.FullyConnectedLattice((2,)), 2))\n",
    "pauli_op.set_field(field_q)\n",
    "print(pauli_op)"
   ]
  },
  {
   "cell_type": "code",
   "execution_count": null,
   "id": "27c135fa",
   "metadata": {},
   "outputs": [],
   "source": []
  }
 ],
 "metadata": {
  "kernelspec": {
   "display_name": "Python 3 (Spyder)",
   "language": "python3",
   "name": "python3"
  },
  "language_info": {
   "codemirror_mode": {
    "name": "ipython",
    "version": 3
   },
   "file_extension": ".py",
   "mimetype": "text/x-python",
   "name": "python",
   "nbconvert_exporter": "python",
   "pygments_lexer": "ipython3",
   "version": "3.10.9"
  }
 },
 "nbformat": 4,
 "nbformat_minor": 5
}
