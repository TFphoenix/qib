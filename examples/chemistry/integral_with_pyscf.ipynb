{
 "cells": [
  {
   "cell_type": "markdown",
   "id": "ddafd434",
   "metadata": {},
   "source": [
    "# Atomic and molecular integral with pySCF"
   ]
  },
  {
   "cell_type": "code",
   "execution_count": null,
   "id": "2440b3f1",
   "metadata": {},
   "outputs": [],
   "source": [
    "import numpy as np\n",
    "from pyscf import gto, scf, ao2mo"
   ]
  },
  {
   "cell_type": "code",
   "execution_count": null,
   "id": "dcf93ef6",
   "metadata": {},
   "outputs": [],
   "source": [
    "import qib"
   ]
  },
  {
   "cell_type": "markdown",
   "id": "1afb81e1",
   "metadata": {},
   "source": [
    "### Construct the molecule"
   ]
  },
  {
   "cell_type": "code",
   "execution_count": null,
   "id": "9d77e853",
   "metadata": {},
   "outputs": [],
   "source": [
    "atom = '''H 0 0 0; H 0 0 0.735'''\n",
    "basis = 'sto-6g'\n",
    "units = 'angstrom'\n",
    "charge = 0\n",
    "spin = 0\n",
    "verbose = 0\n",
    "\n",
    "mol = gto.Mole()\n",
    "mol.build(atom    = atom,\n",
    "          basis   = basis,\n",
    "          charge  = charge,\n",
    "          spin    = spin,\n",
    "          units   = units,\n",
    "          verbose = verbose)"
   ]
  },
  {
   "cell_type": "markdown",
   "id": "253fe759",
   "metadata": {},
   "source": [
    "### Create the atomic integrals"
   ]
  },
  {
   "cell_type": "code",
   "execution_count": null,
   "id": "af21df45",
   "metadata": {},
   "outputs": [],
   "source": [
    "# costant energy term (nuclear repulsion and kinetic term)\n",
    "h0 = mol.get_enuc()\n",
    "# one body integral in the spin-orbital basis (electronic kinetic term and electronic-nuclear attraction)\n",
    "h1 = np.kron(mol.get_hcore(), np.identity(2))\n",
    "# two body integral in the spin-orbital basis (electronic repulsion)\n",
    "h2 = mol.intor('int2e_spinor')\n",
    "\n",
    "# create a MolecularHamiltonian object starting from the atomic integrals\n",
    "latt = qib.lattice.LayeredLattice(qib.lattice.FullyConnectedLattice((2,)), 2)\n",
    "field = qib.field.Field(qib.field.ParticleType.FERMION, latt)\n",
    "H = qib.operator.MolecularHamiltonian(field, h0, h1, h2.transpose(0,2,3,1))"
   ]
  },
  {
   "cell_type": "code",
   "execution_count": null,
   "id": "021f14fb",
   "metadata": {},
   "outputs": [],
   "source": [
    "print(H.as_matrix())"
   ]
  },
  {
   "cell_type": "markdown",
   "id": "e497b2f0",
   "metadata": {},
   "source": [
    "### Hartree-Fock calculation"
   ]
  },
  {
   "cell_type": "code",
   "execution_count": null,
   "id": "9d66b6e5",
   "metadata": {},
   "outputs": [],
   "source": [
    "# RHF == restricted HF (look also ROHF, UHF...)\n",
    "mf = scf.RHF(mol)\n",
    "# performs the HF calculation\n",
    "mf.kernel()\n",
    "# gets the coefficient matrix for the molecular orbitals\n",
    "coeff = mf.mo_coeff\n",
    "print(coeff)"
   ]
  },
  {
   "cell_type": "markdown",
   "id": "e875a27f",
   "metadata": {},
   "source": [
    "### Molecular integrals"
   ]
  },
  {
   "cell_type": "code",
   "execution_count": null,
   "id": "56e7ab1c",
   "metadata": {},
   "outputs": [],
   "source": [
    "spin_coeff = np.kron(coeff, np.identity(2))\n",
    "h1_mo = np.einsum('ji,jk,kl->il', spin_coeff.conj(), h1, spin_coeff)\n",
    "h2_mo = np.einsum('pqrs,pi,qj,rk,sl->ijkl', h2, spin_coeff, spin_coeff, spin_coeff, spin_coeff)\n",
    "print(h1_mo)\n",
    "print(h2_mo)"
   ]
  },
  {
   "cell_type": "markdown",
   "id": "c2f85da9",
   "metadata": {},
   "source": [
    "### Jordan-Wigner mapping"
   ]
  },
  {
   "cell_type": "code",
   "execution_count": null,
   "id": "92d32db9",
   "metadata": {},
   "outputs": [],
   "source": [
    "pauli_op = jordan_wigner_encode_field_operator(H.as_field_operator())\n",
    "\n",
    "# We must assign a lattice to the pauli operator and the number of sites in the lattice must be exactly like the size of the Pauli strings\n",
    "field_q = Field(qib.field.ParticleType.QUBIT, qib.lattice.LayeredLattice(qib.lattice.FullyConnectedLattice((2,)), 2))\n",
    "pauli_op.set_field(field_q)\n",
    "print(pauli_op)"
   ]
  }
 ],
 "metadata": {
  "kernelspec": {
   "display_name": "Python 3 (Spyder)",
   "language": "python3",
   "name": "python3"
  },
  "language_info": {
   "name": ""
  }
 },
 "nbformat": 4,
 "nbformat_minor": 5
}
