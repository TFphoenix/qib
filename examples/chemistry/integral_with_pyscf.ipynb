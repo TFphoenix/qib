{
 "cells": [
  {
   "cell_type": "markdown",
   "id": "8356545b",
   "metadata": {},
   "source": [
    "# Atomic and molecular integral with pySCF"
   ]
  },
  {
   "cell_type": "code",
   "execution_count": 1,
   "id": "3a01af7e",
   "metadata": {},
   "outputs": [],
   "source": [
    "import numpy as np\n",
    "from pyscf import gto, scf, ao2mo"
   ]
  },
  {
   "cell_type": "code",
   "execution_count": 2,
   "id": "00d105a2",
   "metadata": {},
   "outputs": [],
   "source": [
    "import qib"
   ]
  },
  {
   "cell_type": "markdown",
   "id": "a0ce9d21",
   "metadata": {},
   "source": [
    "### Construct the molecule"
   ]
  },
  {
   "cell_type": "code",
   "execution_count": 3,
   "id": "db98ab89",
   "metadata": {},
   "outputs": [
    {
     "data": {
      "text/plain": [
       "<pyscf.gto.mole.Mole at 0x7f38dcaba8c0>"
      ]
     },
     "execution_count": 3,
     "metadata": {},
     "output_type": "execute_result"
    }
   ],
   "source": [
    "atom = '''H 0 0 0; H 0 0 0.735'''\n",
    "basis = 'sto-6g'\n",
    "unit = 'angstrom'\n",
    "charge = 0\n",
    "spin = 0\n",
    "verbose = 0\n",
    "\n",
    "mol = gto.Mole()\n",
    "mol.build(atom    = atom,\n",
    "          basis   = basis,\n",
    "          charge  = charge,\n",
    "          spin    = spin,\n",
    "          unit    = unit,\n",
    "          verbose = verbose)"
   ]
  },
  {
   "cell_type": "markdown",
   "id": "22bd27a1",
   "metadata": {},
   "source": [
    "### Create the atomic integrals"
   ]
  },
  {
   "cell_type": "code",
   "execution_count": 4,
   "id": "6a789170",
   "metadata": {},
   "outputs": [],
   "source": [
    "# costant energy term (nuclear repulsion and kinetic term)\n",
    "h0 = mol.get_enuc()\n",
    "# one body integral in the spin-orbital basis (electronic kinetic term and electronic-nuclear attraction)\n",
    "h1 = np.kron(mol.get_hcore(), np.identity(2))\n",
    "# two body integral in the spin-orbital basis (electronic repulsion)\n",
    "h2 = mol.intor('int2e_spinor')\n",
    "\n",
    "# create a MolecularHamiltonian object starting from the atomic integrals (physicists' convention)\n",
    "latt = qib.lattice.LayeredLattice(qib.lattice.FullyConnectedLattice((2,)), 2)\n",
    "field = qib.field.Field(qib.field.ParticleType.FERMION, latt)\n",
    "symm = [qib.operator.MolecularHamiltonianSymmetry.HERMITIAN, qib.operator.MolecularHamiltonianSymmetry.VARCHANGE]\n",
    "H = qib.operator.MolecularHamiltonian(field, h0, h1, h2.transpose(0, 2, 3, 1), symm)"
   ]
  },
  {
   "cell_type": "code",
   "execution_count": 5,
   "id": "44e7e69c",
   "metadata": {},
   "outputs": [
    {
     "name": "stdout",
     "output_type": "stream",
     "text": [
      "  (0, 0)\t(0.7199689944489797+0j)\n",
      "  (1, 1)\t(-0.4084740771933558+0j)\n",
      "  (1, 4)\t(-0.9679805651651898+0j)\n",
      "  (2, 2)\t(-0.4084740771933558+0j)\n",
      "  (2, 8)\t(-0.9679805651651898+0j)\n",
      "  (3, 3)\t(-2.311915670133334+0j)\n",
      "  (3, 6)\t(1.4152449303153478+0j)\n",
      "  (3, 9)\t(-1.4152449303153478+0j)\n",
      "  (3, 12)\t(-0.30060831485471257+0j)\n",
      "  (4, 1)\t(-0.9679805651651898+0j)\n",
      "  (4, 4)\t(-0.4084740771933558+0j)\n",
      "  (5, 5)\t(-1.8081873720319481+0j)\n",
      "  (6, 3)\t(1.4152449303153476+0j)\n",
      "  (6, 6)\t(-2.1087956868866606+0j)\n",
      "  (6, 9)\t(0.30060831485471257+0j)\n",
      "  (6, 12)\t(1.4152449303153476+0j)\n",
      "  (7, 7)\t(-4.283507503022896+0j)\n",
      "  (7, 13)\t(1.8625092954655056+0j)\n",
      "  (8, 2)\t(-0.9679805651651898+0j)\n",
      "  (8, 8)\t(-0.4084740771933558+0j)\n",
      "  (9, 3)\t(-1.4152449303153476+0j)\n",
      "  (9, 6)\t(0.30060831485471257+0j)\n",
      "  (9, 9)\t(-2.1087956868866606+0j)\n",
      "  (9, 12)\t(-1.4152449303153476+0j)\n",
      "  (10, 10)\t(-1.8081873720319481+0j)\n",
      "  (11, 11)\t(-4.2835075030228955+0j)\n",
      "  (11, 14)\t(1.8625092954655056+0j)\n",
      "  (12, 3)\t(-0.30060831485471257+0j)\n",
      "  (12, 6)\t(1.4152449303153478+0j)\n",
      "  (12, 9)\t(-1.4152449303153478+0j)\n",
      "  (12, 12)\t(-2.311915670133334+0j)\n",
      "  (13, 7)\t(1.8625092954655056+0j)\n",
      "  (13, 13)\t(-4.2835075030228955+0j)\n",
      "  (14, 11)\t(1.8625092954655056+0j)\n",
      "  (14, 14)\t(-4.2835075030228955+0j)\n",
      "  (15, 15)\t(-7.030097857210098+0j)\n"
     ]
    }
   ],
   "source": [
    "print(H.as_matrix())"
   ]
  },
  {
   "cell_type": "markdown",
   "id": "73a214f7",
   "metadata": {},
   "source": [
    "### Hartree-Fock calculation"
   ]
  },
  {
   "cell_type": "code",
   "execution_count": 6,
   "id": "3e7b866b",
   "metadata": {},
   "outputs": [
    {
     "name": "stdout",
     "output_type": "stream",
     "text": [
      "[[ 0.5483259   1.21806548]\n",
      " [ 0.5483259  -1.21806548]]\n"
     ]
    }
   ],
   "source": [
    "# RHF == restricted HF (look also ROHF, UHF...)\n",
    "mf = scf.RHF(mol)\n",
    "# performs the HF calculation\n",
    "mf.kernel()\n",
    "# gets the coefficient matrix for the molecular orbitals\n",
    "coeff = mf.mo_coeff\n",
    "print(coeff)"
   ]
  },
  {
   "cell_type": "markdown",
   "id": "1096515c",
   "metadata": {},
   "source": [
    "### Molecular integrals"
   ]
  },
  {
   "cell_type": "code",
   "execution_count": 7,
   "id": "a78eada9",
   "metadata": {},
   "outputs": [
    {
     "name": "stdout",
     "output_type": "stream",
     "text": [
      "[[-1.26062688e+00  0.00000000e+00 -3.33066907e-16  0.00000000e+00]\n",
      " [ 0.00000000e+00 -1.26062688e+00  0.00000000e+00 -3.33066907e-16]\n",
      " [-1.11022302e-16  0.00000000e+00 -4.76151148e-01  0.00000000e+00]\n",
      " [ 0.00000000e+00 -1.11022302e-16  0.00000000e+00 -4.76151148e-01]]\n",
      "[[[[ 6.75656092e-01+0.j  0.00000000e+00+0.j -2.77555756e-17+0.j\n",
      "     0.00000000e+00+0.j]\n",
      "   [ 0.00000000e+00+0.j  6.75656092e-01+0.j  0.00000000e+00+0.j\n",
      "    -2.77555756e-17+0.j]\n",
      "   [ 2.77555756e-17+0.j  0.00000000e+00+0.j  6.65257654e-01+0.j\n",
      "     0.00000000e+00+0.j]\n",
      "   [ 0.00000000e+00+0.j  2.77555756e-17+0.j  0.00000000e+00+0.j\n",
      "     6.65257654e-01+0.j]]\n",
      "\n",
      "  [[ 0.00000000e+00+0.j  0.00000000e+00+0.j  0.00000000e+00+0.j\n",
      "     0.00000000e+00+0.j]\n",
      "   [ 0.00000000e+00+0.j  0.00000000e+00+0.j  0.00000000e+00+0.j\n",
      "     0.00000000e+00+0.j]\n",
      "   [ 0.00000000e+00+0.j  0.00000000e+00+0.j  0.00000000e+00+0.j\n",
      "     0.00000000e+00+0.j]\n",
      "   [ 0.00000000e+00+0.j  0.00000000e+00+0.j  0.00000000e+00+0.j\n",
      "     0.00000000e+00+0.j]]\n",
      "\n",
      "  [[ 2.77555756e-17+0.j  0.00000000e+00+0.j  1.81218043e-01+0.j\n",
      "     0.00000000e+00+0.j]\n",
      "   [ 0.00000000e+00+0.j  2.77555756e-17+0.j  0.00000000e+00+0.j\n",
      "     1.81218043e-01+0.j]\n",
      "   [ 1.81218043e-01+0.j  0.00000000e+00+0.j  2.22044605e-16+0.j\n",
      "     0.00000000e+00+0.j]\n",
      "   [ 0.00000000e+00+0.j  1.81218043e-01+0.j  0.00000000e+00+0.j\n",
      "     2.22044605e-16+0.j]]\n",
      "\n",
      "  [[ 0.00000000e+00+0.j  0.00000000e+00+0.j  0.00000000e+00+0.j\n",
      "     0.00000000e+00+0.j]\n",
      "   [ 0.00000000e+00+0.j  0.00000000e+00+0.j  0.00000000e+00+0.j\n",
      "     0.00000000e+00+0.j]\n",
      "   [ 0.00000000e+00+0.j  0.00000000e+00+0.j  0.00000000e+00+0.j\n",
      "     0.00000000e+00+0.j]\n",
      "   [ 0.00000000e+00+0.j  0.00000000e+00+0.j  0.00000000e+00+0.j\n",
      "     0.00000000e+00+0.j]]]\n",
      "\n",
      "\n",
      " [[[ 0.00000000e+00+0.j  0.00000000e+00+0.j  0.00000000e+00+0.j\n",
      "     0.00000000e+00+0.j]\n",
      "   [ 0.00000000e+00+0.j  0.00000000e+00+0.j  0.00000000e+00+0.j\n",
      "     0.00000000e+00+0.j]\n",
      "   [ 0.00000000e+00+0.j  0.00000000e+00+0.j  0.00000000e+00+0.j\n",
      "     0.00000000e+00+0.j]\n",
      "   [ 0.00000000e+00+0.j  0.00000000e+00+0.j  0.00000000e+00+0.j\n",
      "     0.00000000e+00+0.j]]\n",
      "\n",
      "  [[ 6.75656092e-01+0.j  0.00000000e+00+0.j -2.77555756e-17+0.j\n",
      "     0.00000000e+00+0.j]\n",
      "   [ 0.00000000e+00+0.j  6.75656092e-01+0.j  0.00000000e+00+0.j\n",
      "    -2.77555756e-17+0.j]\n",
      "   [ 2.77555756e-17+0.j  0.00000000e+00+0.j  6.65257654e-01+0.j\n",
      "     0.00000000e+00+0.j]\n",
      "   [ 0.00000000e+00+0.j  2.77555756e-17+0.j  0.00000000e+00+0.j\n",
      "     6.65257654e-01+0.j]]\n",
      "\n",
      "  [[ 0.00000000e+00+0.j  0.00000000e+00+0.j  0.00000000e+00+0.j\n",
      "     0.00000000e+00+0.j]\n",
      "   [ 0.00000000e+00+0.j  0.00000000e+00+0.j  0.00000000e+00+0.j\n",
      "     0.00000000e+00+0.j]\n",
      "   [ 0.00000000e+00+0.j  0.00000000e+00+0.j  0.00000000e+00+0.j\n",
      "     0.00000000e+00+0.j]\n",
      "   [ 0.00000000e+00+0.j  0.00000000e+00+0.j  0.00000000e+00+0.j\n",
      "     0.00000000e+00+0.j]]\n",
      "\n",
      "  [[ 2.77555756e-17+0.j  0.00000000e+00+0.j  1.81218043e-01+0.j\n",
      "     0.00000000e+00+0.j]\n",
      "   [ 0.00000000e+00+0.j  2.77555756e-17+0.j  0.00000000e+00+0.j\n",
      "     1.81218043e-01+0.j]\n",
      "   [ 1.81218043e-01+0.j  0.00000000e+00+0.j  2.22044605e-16+0.j\n",
      "     0.00000000e+00+0.j]\n",
      "   [ 0.00000000e+00+0.j  1.81218043e-01+0.j  0.00000000e+00+0.j\n",
      "     2.22044605e-16+0.j]]]\n",
      "\n",
      "\n",
      " [[[ 5.55111512e-17+0.j  0.00000000e+00+0.j  1.81218043e-01+0.j\n",
      "     0.00000000e+00+0.j]\n",
      "   [ 0.00000000e+00+0.j  5.55111512e-17+0.j  0.00000000e+00+0.j\n",
      "     1.81218043e-01+0.j]\n",
      "   [ 1.81218043e-01+0.j  0.00000000e+00+0.j  0.00000000e+00+0.j\n",
      "     0.00000000e+00+0.j]\n",
      "   [ 0.00000000e+00+0.j  1.81218043e-01+0.j  0.00000000e+00+0.j\n",
      "     0.00000000e+00+0.j]]\n",
      "\n",
      "  [[ 0.00000000e+00+0.j  0.00000000e+00+0.j  0.00000000e+00+0.j\n",
      "     0.00000000e+00+0.j]\n",
      "   [ 0.00000000e+00+0.j  0.00000000e+00+0.j  0.00000000e+00+0.j\n",
      "     0.00000000e+00+0.j]\n",
      "   [ 0.00000000e+00+0.j  0.00000000e+00+0.j  0.00000000e+00+0.j\n",
      "     0.00000000e+00+0.j]\n",
      "   [ 0.00000000e+00+0.j  0.00000000e+00+0.j  0.00000000e+00+0.j\n",
      "     0.00000000e+00+0.j]]\n",
      "\n",
      "  [[ 6.65257654e-01+0.j  0.00000000e+00+0.j  1.11022302e-16+0.j\n",
      "     0.00000000e+00+0.j]\n",
      "   [ 0.00000000e+00+0.j  6.65257654e-01+0.j  0.00000000e+00+0.j\n",
      "     1.11022302e-16+0.j]\n",
      "   [ 0.00000000e+00+0.j  0.00000000e+00+0.j  7.00178224e-01+0.j\n",
      "     0.00000000e+00+0.j]\n",
      "   [ 0.00000000e+00+0.j  0.00000000e+00+0.j  0.00000000e+00+0.j\n",
      "     7.00178224e-01+0.j]]\n",
      "\n",
      "  [[ 0.00000000e+00+0.j  0.00000000e+00+0.j  0.00000000e+00+0.j\n",
      "     0.00000000e+00+0.j]\n",
      "   [ 0.00000000e+00+0.j  0.00000000e+00+0.j  0.00000000e+00+0.j\n",
      "     0.00000000e+00+0.j]\n",
      "   [ 0.00000000e+00+0.j  0.00000000e+00+0.j  0.00000000e+00+0.j\n",
      "     0.00000000e+00+0.j]\n",
      "   [ 0.00000000e+00+0.j  0.00000000e+00+0.j  0.00000000e+00+0.j\n",
      "     0.00000000e+00+0.j]]]\n",
      "\n",
      "\n",
      " [[[ 0.00000000e+00+0.j  0.00000000e+00+0.j  0.00000000e+00+0.j\n",
      "     0.00000000e+00+0.j]\n",
      "   [ 0.00000000e+00+0.j  0.00000000e+00+0.j  0.00000000e+00+0.j\n",
      "     0.00000000e+00+0.j]\n",
      "   [ 0.00000000e+00+0.j  0.00000000e+00+0.j  0.00000000e+00+0.j\n",
      "     0.00000000e+00+0.j]\n",
      "   [ 0.00000000e+00+0.j  0.00000000e+00+0.j  0.00000000e+00+0.j\n",
      "     0.00000000e+00+0.j]]\n",
      "\n",
      "  [[ 5.55111512e-17+0.j  0.00000000e+00+0.j  1.81218043e-01+0.j\n",
      "     0.00000000e+00+0.j]\n",
      "   [ 0.00000000e+00+0.j  5.55111512e-17+0.j  0.00000000e+00+0.j\n",
      "     1.81218043e-01+0.j]\n",
      "   [ 1.81218043e-01+0.j  0.00000000e+00+0.j  0.00000000e+00+0.j\n",
      "     0.00000000e+00+0.j]\n",
      "   [ 0.00000000e+00+0.j  1.81218043e-01+0.j  0.00000000e+00+0.j\n",
      "     0.00000000e+00+0.j]]\n",
      "\n",
      "  [[ 0.00000000e+00+0.j  0.00000000e+00+0.j  0.00000000e+00+0.j\n",
      "     0.00000000e+00+0.j]\n",
      "   [ 0.00000000e+00+0.j  0.00000000e+00+0.j  0.00000000e+00+0.j\n",
      "     0.00000000e+00+0.j]\n",
      "   [ 0.00000000e+00+0.j  0.00000000e+00+0.j  0.00000000e+00+0.j\n",
      "     0.00000000e+00+0.j]\n",
      "   [ 0.00000000e+00+0.j  0.00000000e+00+0.j  0.00000000e+00+0.j\n",
      "     0.00000000e+00+0.j]]\n",
      "\n",
      "  [[ 6.65257654e-01+0.j  0.00000000e+00+0.j  1.11022302e-16+0.j\n",
      "     0.00000000e+00+0.j]\n",
      "   [ 0.00000000e+00+0.j  6.65257654e-01+0.j  0.00000000e+00+0.j\n",
      "     1.11022302e-16+0.j]\n",
      "   [ 0.00000000e+00+0.j  0.00000000e+00+0.j  7.00178224e-01+0.j\n",
      "     0.00000000e+00+0.j]\n",
      "   [ 0.00000000e+00+0.j  0.00000000e+00+0.j  0.00000000e+00+0.j\n",
      "     7.00178224e-01+0.j]]]]\n"
     ]
    }
   ],
   "source": [
    "spin_coeff = np.kron(coeff, np.identity(2))\n",
    "h1_mo = np.einsum('ji,jk,kl->il', spin_coeff.conj(), h1, spin_coeff)\n",
    "h2_mo = np.einsum('pqrs,pi,qj,rk,sl->ijkl', h2, spin_coeff, spin_coeff, spin_coeff, spin_coeff)\n",
    "H.tkin = h1_mo\n",
    "H.vint = h2_mo.transpose(0, 2, 3, 1)\n",
    "print(h1_mo)\n",
    "print(h2_mo)"
   ]
  },
  {
   "cell_type": "markdown",
   "id": "cc5e7764",
   "metadata": {},
   "source": [
    "### Jordan-Wigner mapping"
   ]
  },
  {
   "cell_type": "code",
   "execution_count": 8,
   "id": "059a83e6",
   "metadata": {},
   "outputs": [
    {
     "name": "stdout",
     "output_type": "stream",
     "text": [
      "Pauli operator consisting of weighted Pauli strings\n",
      "    (-1.93541624227124+0j)*IIII\n",
      "   (1.0865517780771003+0j)*ZIII\n",
      "   (1.0865517780771003+0j)*IZII\n",
      "   (0.7004444459506683+0j)*IIZI\n",
      "   (0.7004444459506688+0j)*IIIZ\n",
      " (-0.16891402311629494+0j)*ZZII\n",
      " (-0.12100990274925519+0j)*ZIZI\n",
      " (-0.16631441337615077+0j)*ZIIZ\n",
      "(-0.045304510626895576+0j)*XYYX\n",
      " (0.045304510626895576+0j)*XXYY\n",
      " (0.045304510626895576+0j)*YYXX\n",
      "(-0.045304510626895576+0j)*YXXY\n",
      " (-0.16631441337615077+0j)*IZZI\n",
      " (-0.12100990274925519+0j)*IZIZ\n",
      " (-0.17504455596821475+0j)*IIZZ\n",
      "\n"
     ]
    }
   ],
   "source": [
    "pauli_op = qib.transform.jordan_wigner_encode_field_operator(H.as_field_operator())\n",
    "\n",
    "# We must assign a lattice to the pauli operator and the number of sites in the lattice must be exactly like the size of the Pauli strings\n",
    "field_q = qib.field.Field(qib.field.ParticleType.QUBIT, qib.lattice.LayeredLattice(qib.lattice.FullyConnectedLattice((2,)), 2))\n",
    "pauli_op.set_field(field_q)\n",
    "print(pauli_op)"
   ]
  },
  {
   "cell_type": "code",
   "execution_count": null,
   "id": "68d4375a",
   "metadata": {},
   "outputs": [],
   "source": []
  }
 ],
 "metadata": {
  "kernelspec": {
   "display_name": "Python 3 (Spyder)",
   "language": "python3",
   "name": "python3"
  },
  "language_info": {
   "codemirror_mode": {
    "name": "ipython",
    "version": 3
   },
   "file_extension": ".py",
   "mimetype": "text/x-python",
   "name": "python",
   "nbconvert_exporter": "python",
   "pygments_lexer": "ipython3",
   "version": "3.10.9"
  }
 },
 "nbformat": 4,
 "nbformat_minor": 5
}
