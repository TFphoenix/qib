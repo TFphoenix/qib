{
 "cells": [
  {
   "cell_type": "markdown",
   "id": "18aee8a0",
   "metadata": {},
   "source": [
    "# Atomic and molecular integral with pySCF"
   ]
  },
  {
   "cell_type": "code",
   "execution_count": null,
   "id": "85064d2f",
   "metadata": {},
   "outputs": [],
   "source": [
    "import numpy as np\n",
    "from pyscf import gto, scf, ao2mo"
   ]
  },
  {
   "cell_type": "code",
   "execution_count": null,
   "id": "23765ad6",
   "metadata": {},
   "outputs": [],
   "source": [
    "import qib"
   ]
  },
  {
   "cell_type": "markdown",
   "id": "32b5a5b8",
   "metadata": {},
   "source": [
    "### Construct the molecule"
   ]
  },
  {
   "cell_type": "code",
   "execution_count": null,
   "id": "ae043b70",
   "metadata": {},
   "outputs": [],
   "source": [
    "atom = '''H 0 0 0; H 0 0 0.735'''\n",
    "basis = 'sto-6g'\n",
    "units = 'angstrom'\n",
    "charge = 0\n",
    "spin = 0\n",
    "verbose = 0\n",
    "\n",
    "mol = gto.Mole()\n",
    "mol.build(atom    = atom,\n",
    "          basis   = basis,\n",
    "          charge  = charge,\n",
    "          spin    = spin,\n",
    "          units   = units,\n",
    "          verbose = verbose)"
   ]
  },
  {
   "cell_type": "markdown",
   "id": "80898092",
   "metadata": {},
   "source": [
    "### Create the atomic integrals"
   ]
  },
  {
   "cell_type": "code",
   "execution_count": null,
   "id": "e108cc4e",
   "metadata": {},
   "outputs": [],
   "source": [
    "# costant energy term (nuclear repulsion and kinetic term)\n",
    "h0 = mol.get_enuc()\n",
    "# one body integral in the spin-orbital basis (electronic kinetic term and electronic-nuclear attraction)\n",
    "h1 = np.kron(mol.get_hcore(), np.identity(2))\n",
    "# two body integral in the spin-orbital basis (electronic repulsion)\n",
    "h2 = mol.intor('int2e_spinor')\n",
    "\n",
    "# create a BornOppenheimerHamiltonian object starting from the atomic integrals\n",
    "latt = qib.lattice.LayeredLattice(qib.lattice.FullyConnectedLattice((2,)), 2)\n",
    "field = qib.field.Field(qib.field.ParticleType.FERMION, latt)\n",
    "H = qib.operator.BornOppenheimerHamiltonian(field, h0, h1, h2)"
   ]
  },
  {
   "cell_type": "code",
   "execution_count": null,
   "id": "18a2792e",
   "metadata": {},
   "outputs": [],
   "source": [
    "print(H.as_matrix())"
   ]
  },
  {
   "cell_type": "markdown",
   "id": "6be26ff2",
   "metadata": {},
   "source": [
    "### Hartree-Fock calculation"
   ]
  },
  {
   "cell_type": "code",
   "execution_count": null,
   "id": "b590c780",
   "metadata": {},
   "outputs": [],
   "source": [
    "# RHF == restricted HF (look also ROHF, UHF...)\n",
    "mf = scf.RHF(mol)\n",
    "# performs the HF calculation\n",
    "mf.kernel()\n",
    "# gets the coefficient matrix for the molecular orbitals\n",
    "coeff = mf.mo_coeff\n",
    "print(coeff)"
   ]
  },
  {
   "cell_type": "markdown",
   "id": "70b9cb73",
   "metadata": {},
   "source": [
    "### Molecular integrals"
   ]
  },
  {
   "cell_type": "code",
   "execution_count": null,
   "id": "c16a3999",
   "metadata": {},
   "outputs": [],
   "source": [
    "H.set_mo_integrals(coeff)\n",
    "print(H.h1)\n",
    "print(H.h2)"
   ]
  },
  {
   "cell_type": "markdown",
   "id": "df56c540",
   "metadata": {},
   "source": [
    "### Jordan-Wigner mapping"
   ]
  },
  {
   "cell_type": "code",
   "execution_count": null,
   "id": "88199419",
   "metadata": {},
   "outputs": [],
   "source": [
    "pauli_op = jordan_wigner_encode_field_operator(H.as_field_operator())\n",
    "\n",
    "# We must assign a lattice to the pauli operator and the number of sites in the lattice must be exactly like the size of the Pauli strings\n",
    "field_q = Field(qib.field.ParticleType.QUBIT, qib.lattice.LayeredLattice(qib.lattice.FullyConnectedLattice((2,)), 2))\n",
    "pauli_op.set_field(field_q)\n",
    "print(pauli_op)"
   ]
  }
 ],
 "metadata": {
  "kernelspec": {
   "display_name": "Python 3 (Spyder)",
   "language": "python3",
   "name": "python3"
  },
  "language_info": {
   "name": ""
  }
 },
 "nbformat": 4,
 "nbformat_minor": 5
}
