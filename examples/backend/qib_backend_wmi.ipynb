{
 "cells": [
  {
   "cell_type": "markdown",
   "metadata": {},
   "source": [
    "# _qib_ WMI Backend Integration"
   ]
  },
  {
   "cell_type": "code",
   "execution_count": 1,
   "metadata": {},
   "outputs": [
    {
     "name": "stdout",
     "output_type": "stream",
     "text": [
      "Requirement already satisfied: matplotlib in /opt/homebrew/anaconda3/envs/quantum/lib/python3.10/site-packages (3.8.3)\n",
      "Requirement already satisfied: contourpy>=1.0.1 in /opt/homebrew/anaconda3/envs/quantum/lib/python3.10/site-packages (from matplotlib) (1.2.0)\n",
      "Requirement already satisfied: cycler>=0.10 in /opt/homebrew/anaconda3/envs/quantum/lib/python3.10/site-packages (from matplotlib) (0.12.1)\n",
      "Requirement already satisfied: fonttools>=4.22.0 in /opt/homebrew/anaconda3/envs/quantum/lib/python3.10/site-packages (from matplotlib) (4.49.0)\n",
      "Requirement already satisfied: kiwisolver>=1.3.1 in /opt/homebrew/anaconda3/envs/quantum/lib/python3.10/site-packages (from matplotlib) (1.4.5)\n",
      "Requirement already satisfied: numpy<2,>=1.21 in /opt/homebrew/anaconda3/envs/quantum/lib/python3.10/site-packages (from matplotlib) (1.26.4)\n",
      "Requirement already satisfied: packaging>=20.0 in /opt/homebrew/anaconda3/envs/quantum/lib/python3.10/site-packages (from matplotlib) (23.2)\n",
      "Requirement already satisfied: pillow>=8 in /opt/homebrew/anaconda3/envs/quantum/lib/python3.10/site-packages (from matplotlib) (10.2.0)\n",
      "Requirement already satisfied: pyparsing>=2.3.1 in /opt/homebrew/anaconda3/envs/quantum/lib/python3.10/site-packages (from matplotlib) (3.1.1)\n",
      "Requirement already satisfied: python-dateutil>=2.7 in /opt/homebrew/anaconda3/envs/quantum/lib/python3.10/site-packages (from matplotlib) (2.8.2)\n",
      "Requirement already satisfied: six>=1.5 in /opt/homebrew/anaconda3/envs/quantum/lib/python3.10/site-packages (from python-dateutil>=2.7->matplotlib) (1.16.0)\n",
      "Note: you may need to restart the kernel to use updated packages.\n"
     ]
    }
   ],
   "source": [
    "# Set-up Python package dependencies\n",
    "%pip install matplotlib"
   ]
  },
  {
   "cell_type": "code",
   "execution_count": 2,
   "metadata": {},
   "outputs": [],
   "source": [
    "# Set-up Python module dependencies\n",
    "import qib\n",
    "import matplotlib.pyplot as plt"
   ]
  },
  {
   "cell_type": "code",
   "execution_count": 3,
   "metadata": {},
   "outputs": [],
   "source": [
    "# Set-up backend API access token\n",
    "access_token = input(\"(WMI) Enter API access token: \")"
   ]
  },
  {
   "cell_type": "markdown",
   "metadata": {},
   "source": [
    "## **WMI Qiskit Simulator Backend (QS)**"
   ]
  },
  {
   "cell_type": "markdown",
   "metadata": {},
   "source": [
    "Define circuits for all 4 Bell states"
   ]
  },
  {
   "cell_type": "code",
   "execution_count": 4,
   "metadata": {},
   "outputs": [],
   "source": [
    "def wmi_qs_bell_circuits() -> qib.Circuit:\n",
    "    # Qubits\n",
    "    field = qib.field.Field(\n",
    "        qib.field.ParticleType.QUBIT, qib.lattice.IntegerLattice((3,)))\n",
    "    q0 = qib.field.Qubit(field, 0)\n",
    "    q1 = qib.field.Qubit(field, 1)\n",
    "\n",
    "    # Bell State Φ+ Circuit\n",
    "    circuit_phi_plus = qib.Circuit([\n",
    "        qib.HadamardGate(q0),\n",
    "        qib.HadamardGate(q1),\n",
    "        qib.ControlledGate(qib.PauliZGate(q1), 1).set_control(q0),\n",
    "        qib.HadamardGate(q1),\n",
    "        qib.MeasureInstruction([q0, q1])\n",
    "    ])\n",
    "    \n",
    "    # Bell State Φ- Circuit\n",
    "    circuit_phi_minus = qib.Circuit([\n",
    "        qib.PauliXGate(q0),\n",
    "        qib.HadamardGate(q0),\n",
    "        qib.HadamardGate(q1),\n",
    "        qib.ControlledGate(qib.PauliZGate(q1), 1).set_control(q0),\n",
    "        qib.HadamardGate(q1),\n",
    "        qib.MeasureInstruction([q0, q1])\n",
    "    ])\n",
    "    \n",
    "    # Bell State Ψ+ Circuit\n",
    "    circuit_psi_plus = qib.Circuit([\n",
    "        qib.HadamardGate(q0),\n",
    "        qib.PauliXGate(q1),\n",
    "        qib.HadamardGate(q1),\n",
    "        qib.ControlledGate(qib.PauliZGate(q1), 1).set_control(q0),\n",
    "        qib.HadamardGate(q1),\n",
    "        qib.MeasureInstruction([q0, q1])\n",
    "    ])\n",
    "    \n",
    "    # Bell State Ψ- Circuit\n",
    "    circuit_psi_minus = qib.Circuit([\n",
    "        qib.HadamardGate(q0),\n",
    "        qib.PauliXGate(q1),\n",
    "        qib.RzGate(180, q0),\n",
    "        qib.RzGate(180, q1),\n",
    "        qib.HadamardGate(q1),\n",
    "        qib.ControlledGate(qib.PauliZGate(q1), 1).set_control(q0),\n",
    "        qib.HadamardGate(q1),\n",
    "        qib.MeasureInstruction([q0, q1])\n",
    "    ])\n",
    "    \n",
    "    return [circuit_phi_plus, circuit_phi_minus, circuit_psi_plus, circuit_psi_minus]"
   ]
  },
  {
   "cell_type": "markdown",
   "metadata": {},
   "source": [
    "Set-up and execute the experiment on the given backend"
   ]
  },
  {
   "cell_type": "code",
   "execution_count": 5,
   "metadata": {},
   "outputs": [],
   "source": [
    "def wmi_qs_experiment(circuit: qib.Circuit, access_token: str) -> qib.backend.ExperimentResults:\n",
    "    # Processor & Experiment\n",
    "    processor = qib.backend.wmi.WMIQSimProcessor(access_token=access_token)\n",
    "    options = qib.backend.wmi.WMIOptions(shots=4096)\n",
    "    experiment = processor.submit_experiment(\n",
    "        name = 'qib-integration-test-qs',\n",
    "        circ = circuit,\n",
    "        options = options)\n",
    "    results = experiment.results()\n",
    "    return results"
   ]
  },
  {
   "cell_type": "markdown",
   "metadata": {},
   "source": [
    "Plot the experiment results (i.e. measured counts) histogram"
   ]
  },
  {
   "cell_type": "code",
   "execution_count": 6,
   "metadata": {},
   "outputs": [],
   "source": [
    "def wmi_qs_plot_states(results_counts: list[dict]) -> None:\n",
    "    fig, axes = plt.subplots(2, 2, figsize=(8, 8))  # Create a 2x2 grid of subplots\n",
    "\n",
    "    for idx, counts in enumerate(results_counts):\n",
    "        ax = axes.flat[idx]  # Access each subplot in the grid\n",
    "\n",
    "        # Create the bar plot for each subplot\n",
    "        ax.bar(counts.keys(), counts.values(), color='dodgerblue')\n",
    "\n",
    "        # Add count value labels on top of the bars\n",
    "        max_value = max(counts.values())\n",
    "        for j, v in enumerate(counts.values()):\n",
    "            y_pos = min(max_value, v) - 40\n",
    "            ax.text(j, y_pos, str(v), ha='center', va='top', fontsize=12, color='darkblue')\n",
    "\n",
    "        # Set subplot titles with desired labels\n",
    "        positions = ['B. State Φ+', 'B. State Φ-', 'B. State Ψ+', 'B. State Ψ-']\n",
    "        ax.set_title(positions[idx])\n",
    "\n",
    "    plt.tight_layout()  # Adjust layout to prevent overlapping\n",
    "    plt.show()"
   ]
  },
  {
   "cell_type": "markdown",
   "metadata": {},
   "source": [
    "**Execution Flow**"
   ]
  },
  {
   "cell_type": "code",
   "execution_count": 7,
   "metadata": {},
   "outputs": [
    {
     "data": {
      "image/png": "[encoded data removed]",
      "text/plain": [
       "<Figure size 800x800 with 4 Axes>"
      ]
     },
     "metadata": {},
     "output_type": "display_data"
    }
   ],
   "source": [
    "# Initialize the circuits and run the experiment\n",
    "bell_circuits = wmi_qs_bell_circuits()\n",
    "results_counts: list[dict] = []\n",
    "for circuit in bell_circuits:\n",
    "    results = wmi_qs_experiment(circuit, access_token)\n",
    "    results_counts.append(results.get_counts(binary=True))\n",
    "\n",
    "# Plot experiment results\n",
    "wmi_qs_plot_states(results_counts)"
   ]
  },
  {
   "cell_type": "markdown",
   "metadata": {},
   "source": [
    "## **WMI Quantum Computer (QC)**"
   ]
  },
  {
   "cell_type": "code",
   "execution_count": 8,
   "metadata": {},
   "outputs": [],
   "source": [
    "def wmi_qc_circuit():\n",
    "    # Qubits\n",
    "    field = qib.field.Field(\n",
    "        qib.field.ParticleType.QUBIT, qib.lattice.IntegerLattice((3,)))\n",
    "    q0 = qib.field.Qubit(field, 0)\n",
    "\n",
    "    # Circuit\n",
    "    circuit = qib.Circuit([\n",
    "        qib.RzGate(90, q0),\n",
    "        qib.MeasureInstruction([q0])\n",
    "    ])\n",
    "    \n",
    "    return circuit"
   ]
  },
  {
   "cell_type": "code",
   "execution_count": 9,
   "metadata": {},
   "outputs": [],
   "source": [
    "def wmi_qc_experiment(circuit: qib.Circuit, access_token: str) -> qib.backend.ExperimentResults:\n",
    "    # Processor & Experiment\n",
    "    processor = qib.backend.wmi.WMIQCProcessor(access_token=access_token)\n",
    "    experiment = processor.submit_experiment(\n",
    "        name = 'qib-integration-test-qc',\n",
    "        circ = circuit)\n",
    "    results = experiment.results()\n",
    "    return results"
   ]
  },
  {
   "cell_type": "code",
   "execution_count": 10,
   "metadata": {},
   "outputs": [],
   "source": [
    "def wmi_qc_plot(counts: dict) -> None:\n",
    "    fig = plt.figure(figsize=(4, 4))\n",
    "    plt.bar(counts.keys(), counts.values(), color='dodgerblue')\n",
    "\n",
    "    # Add count value labels on top of the bars\n",
    "    max_value = max(counts.values())\n",
    "    for i, v in enumerate(counts.values()):\n",
    "        y_pos = min(max_value, v) - 40\n",
    "        plt.text(i, y_pos, str(v), ha='center', va='top', fontsize=12, color='darkblue')\n",
    "\n",
    "    plt.show()"
   ]
  },
  {
   "cell_type": "code",
   "execution_count": null,
   "metadata": {},
   "outputs": [],
   "source": [
    "# Initialize the circuits and run the experiment\n",
    "circuit = wmi_qc_circuit()\n",
    "results = wmi_qc_experiment(circuit, access_token).get_counts(binary=True)\n",
    "\n",
    "# Plot experiment results\n",
    "wmi_qc_plot(results)"
   ]
  }
 ],
 "metadata": {
  "kernelspec": {
   "display_name": "quantum",
   "language": "python",
   "name": "python3"
  },
  "language_info": {
   "codemirror_mode": {
    "name": "ipython",
    "version": 3
   },
   "file_extension": ".py",
   "mimetype": "text/x-python",
   "name": "python",
   "nbconvert_exporter": "python",
   "pygments_lexer": "ipython3",
   "version": "3.10.13"
  }
 },
 "nbformat": 4,
 "nbformat_minor": 2
}
