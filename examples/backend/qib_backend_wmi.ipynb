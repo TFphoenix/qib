{
 "cells": [
  {
   "cell_type": "markdown",
   "metadata": {},
   "source": [
    "# _qib_ WMI Backend Integration"
   ]
  },
  {
   "cell_type": "markdown",
   "metadata": {},
   "source": [
    "In this example we test qib's backend module, and its integration capability with the quantum devices provided by the Walter-Meissner Institute."
   ]
  },
  {
   "cell_type": "code",
   "execution_count": 1,
   "metadata": {},
   "outputs": [
    {
     "name": "stdout",
     "output_type": "stream",
     "text": [
      "Requirement already satisfied: matplotlib in f:\\programs\\python\\anaconda3\\envs\\quantum_p310\\lib\\site-packages (3.8.3)\n",
      "Requirement already satisfied: contourpy>=1.0.1 in f:\\programs\\python\\anaconda3\\envs\\quantum_p310\\lib\\site-packages (from matplotlib) (1.2.0)\n",
      "Requirement already satisfied: cycler>=0.10 in f:\\programs\\python\\anaconda3\\envs\\quantum_p310\\lib\\site-packages (from matplotlib) (0.12.1)\n",
      "Requirement already satisfied: fonttools>=4.22.0 in f:\\programs\\python\\anaconda3\\envs\\quantum_p310\\lib\\site-packages (from matplotlib) (4.49.0)\n",
      "Requirement already satisfied: kiwisolver>=1.3.1 in f:\\programs\\python\\anaconda3\\envs\\quantum_p310\\lib\\site-packages (from matplotlib) (1.4.5)\n",
      "Requirement already satisfied: numpy<2,>=1.21 in f:\\programs\\python\\anaconda3\\envs\\quantum_p310\\lib\\site-packages (from matplotlib) (1.26.4)\n",
      "Requirement already satisfied: packaging>=20.0 in f:\\programs\\python\\anaconda3\\envs\\quantum_p310\\lib\\site-packages (from matplotlib) (23.2)\n",
      "Requirement already satisfied: pillow>=8 in f:\\programs\\python\\anaconda3\\envs\\quantum_p310\\lib\\site-packages (from matplotlib) (10.2.0)\n",
      "Requirement already satisfied: pyparsing>=2.3.1 in f:\\programs\\python\\anaconda3\\envs\\quantum_p310\\lib\\site-packages (from matplotlib) (3.1.1)\n",
      "Requirement already satisfied: python-dateutil>=2.7 in f:\\programs\\python\\anaconda3\\envs\\quantum_p310\\lib\\site-packages (from matplotlib) (2.8.2)\n",
      "Requirement already satisfied: six>=1.5 in f:\\programs\\python\\anaconda3\\envs\\quantum_p310\\lib\\site-packages (from python-dateutil>=2.7->matplotlib) (1.16.0)\n",
      "Note: you may need to restart the kernel to use updated packages.\n"
     ]
    }
   ],
   "source": [
    "# Set-up Python package dependencies\n",
    "%pip install matplotlib"
   ]
  },
  {
   "cell_type": "code",
   "execution_count": 2,
   "metadata": {},
   "outputs": [],
   "source": [
    "# Set-up Python module dependencies\n",
    "import qib\n",
    "import matplotlib.pyplot as plt\n",
    "import math"
   ]
  },
  {
   "cell_type": "code",
   "execution_count": 3,
   "metadata": {},
   "outputs": [],
   "source": [
    "# Set-up backend API access token\n",
    "access_token = input(\"(WMI) Enter API access token: \")"
   ]
  },
  {
   "cell_type": "markdown",
   "metadata": {},
   "source": [
    "## **WMI Qiskit Simulator Backend (QS)**"
   ]
  },
  {
   "cell_type": "markdown",
   "metadata": {},
   "source": [
    "Define circuits for all 4 Bell states"
   ]
  },
  {
   "cell_type": "code",
   "execution_count": 4,
   "metadata": {},
   "outputs": [],
   "source": [
    "def wmi_qs_bell_circuits() -> qib.Circuit:\n",
    "    # Qubits\n",
    "    field = qib.field.Field(\n",
    "        qib.field.ParticleType.QUBIT, qib.lattice.IntegerLattice((3,)))\n",
    "    q0 = qib.field.Qubit(field, 0)\n",
    "    q1 = qib.field.Qubit(field, 1)\n",
    "\n",
    "    # Bell State Φ+ Circuit\n",
    "    circuit_phi_plus = qib.Circuit([\n",
    "        qib.HadamardGate(q0),\n",
    "        qib.HadamardGate(q1),\n",
    "        qib.ControlledGate(qib.PauliZGate(q1), 1).set_control(q0),\n",
    "        qib.HadamardGate(q1),\n",
    "        qib.MeasureInstruction([q0, q1])\n",
    "    ])\n",
    "    \n",
    "    # Bell State Φ- Circuit\n",
    "    circuit_phi_minus = qib.Circuit([\n",
    "        qib.PauliXGate(q0),\n",
    "        qib.HadamardGate(q0),\n",
    "        qib.HadamardGate(q1),\n",
    "        qib.ControlledGate(qib.PauliZGate(q1), 1).set_control(q0),\n",
    "        qib.HadamardGate(q1),\n",
    "        qib.MeasureInstruction([q0, q1])\n",
    "    ])\n",
    "    \n",
    "    # Bell State Ψ+ Circuit\n",
    "    circuit_psi_plus = qib.Circuit([\n",
    "        qib.HadamardGate(q0),\n",
    "        qib.PauliXGate(q1),\n",
    "        qib.HadamardGate(q1),\n",
    "        qib.ControlledGate(qib.PauliZGate(q1), 1).set_control(q0),\n",
    "        qib.HadamardGate(q1),\n",
    "        qib.MeasureInstruction([q0, q1])\n",
    "    ])\n",
    "    \n",
    "    # Bell State Ψ- Circuit\n",
    "    circuit_psi_minus = qib.Circuit([\n",
    "        qib.HadamardGate(q0),\n",
    "        qib.PauliXGate(q1),\n",
    "        qib.RzGate(math.pi, q0),\n",
    "        qib.RzGate(math.pi, q1),\n",
    "        qib.HadamardGate(q1),\n",
    "        qib.ControlledGate(qib.PauliZGate(q1), 1).set_control(q0),\n",
    "        qib.HadamardGate(q1),\n",
    "        qib.MeasureInstruction([q0, q1])\n",
    "    ])\n",
    "    \n",
    "    return [circuit_phi_plus, circuit_phi_minus, circuit_psi_plus, circuit_psi_minus]"
   ]
  },
  {
   "cell_type": "markdown",
   "metadata": {},
   "source": [
    "Set-up and execute the experiment on the given backend"
   ]
  },
  {
   "cell_type": "code",
   "execution_count": 5,
   "metadata": {},
   "outputs": [],
   "source": [
    "def wmi_qs_experiment(circuit: qib.Circuit, access_token: str) -> qib.backend.ExperimentResults:\n",
    "    # Processor & Experiment\n",
    "    processor = qib.backend.wmi.WMIQSimProcessor(access_token=access_token)\n",
    "    options = qib.backend.wmi.WMIOptions(shots=4096)\n",
    "    experiment = processor.submit_experiment(\n",
    "        name = 'qib-integration-test-qs',\n",
    "        circ = circuit,\n",
    "        options = options)\n",
    "    results = experiment.results()\n",
    "    return results"
   ]
  },
  {
   "cell_type": "markdown",
   "metadata": {},
   "source": [
    "Plot the experiment results (i.e. measured counts) histogram"
   ]
  },
  {
   "cell_type": "code",
   "execution_count": 6,
   "metadata": {},
   "outputs": [],
   "source": [
    "def wmi_qs_plot_states(results_counts: list[dict]) -> None:\n",
    "    fig, axes = plt.subplots(2, 2, figsize=(8, 8))  # Create a 2x2 grid of subplots\n",
    "\n",
    "    for idx, counts in enumerate(results_counts):\n",
    "        ax = axes.flat[idx]  # Access each subplot in the grid\n",
    "\n",
    "        # Create the bar plot for each subplot\n",
    "        ax.bar(counts.keys(), counts.values(), color='dodgerblue')\n",
    "\n",
    "        # Add count value labels on top of the bars\n",
    "        max_value = max(counts.values())\n",
    "        for j, v in enumerate(counts.values()):\n",
    "            y_pos = min(max_value, v) - 40\n",
    "            ax.text(j, y_pos, str(v), ha='center', va='top', fontsize=12, color='darkblue')\n",
    "\n",
    "        # Set subplot titles with desired labels\n",
    "        positions = ['B. State Φ+', 'B. State Φ-', 'B. State Ψ+', 'B. State Ψ-']\n",
    "        ax.set_title(positions[idx])\n",
    "\n",
    "    plt.tight_layout()  # Adjust layout to prevent overlapping\n",
    "    plt.show()"
   ]
  },
  {
   "cell_type": "markdown",
   "metadata": {},
   "source": [
    "**Execution Flow**"
   ]
  },
  {
   "cell_type": "code",
   "execution_count": 7,
   "metadata": {},
   "outputs": [
    {
     "data": {
      "image/png": "[encoded data removed]",
      "text/plain": [
       "<Figure size 800x800 with 4 Axes>"
      ]
     },
     "metadata": {},
     "output_type": "display_data"
    }
   ],
   "source": [
    "# Initialize the circuits and run the experiment\n",
    "bell_circuits = wmi_qs_bell_circuits()\n",
    "results_counts: list[dict] = []\n",
    "for circuit in bell_circuits:\n",
    "    results = wmi_qs_experiment(circuit, access_token)\n",
    "    results_counts.append(results.get_counts(binary=True))\n",
    "\n",
    "# Plot experiment results\n",
    "wmi_qs_plot_states(results_counts)"
   ]
  },
  {
   "cell_type": "markdown",
   "metadata": {},
   "source": [
    "## **WMI Quantum Computer Backend (QC)**"
   ]
  },
  {
   "cell_type": "code",
   "execution_count": 8,
   "metadata": {},
   "outputs": [],
   "source": [
    "def wmi_qc_circuit():\n",
    "    # Qubits\n",
    "    field = qib.field.Field(\n",
    "        qib.field.ParticleType.QUBIT, qib.lattice.IntegerLattice((3,)))\n",
    "    q0 = qib.field.Qubit(field, 0)\n",
    "\n",
    "    # Circuit\n",
    "    circuit = qib.Circuit([\n",
    "        qib.SxGate(q0),\n",
    "        qib.MeasureInstruction([q0])\n",
    "    ])\n",
    "    \n",
    "    return circuit"
   ]
  },
  {
   "cell_type": "code",
   "execution_count": 9,
   "metadata": {},
   "outputs": [],
   "source": [
    "def wmi_qc_experiment(circuit: qib.Circuit, access_token: str) -> qib.backend.ExperimentResults:\n",
    "    # Processor & Experiment\n",
    "    processor = qib.backend.wmi.WMIQCProcessor(access_token=access_token)\n",
    "    experiment = processor.submit_experiment(\n",
    "        name = 'qib-integration-test-qc',\n",
    "        circ = circuit)\n",
    "    results = experiment.results()\n",
    "    return results"
   ]
  },
  {
   "cell_type": "code",
   "execution_count": 10,
   "metadata": {},
   "outputs": [],
   "source": [
    "def wmi_qc_plot(counts: dict) -> None:\n",
    "    fig = plt.figure(figsize=(4, 4))\n",
    "    plt.bar(counts.keys(), counts.values(), color='dodgerblue')\n",
    "\n",
    "    # Add count value labels on top of the bars\n",
    "    max_value = max(counts.values())\n",
    "    for i, v in enumerate(counts.values()):\n",
    "        y_pos = min(max_value, v) - 40\n",
    "        plt.text(i, y_pos, str(v), ha='center', va='top', fontsize=12, color='darkblue')\n",
    "\n",
    "    plt.show()"
   ]
  },
  {
   "cell_type": "code",
   "execution_count": 11,
   "metadata": {},
   "outputs": [
    {
     "ename": "RuntimeError",
     "evalue": "Experiment could not be submitted: The backend is offline.",
     "output_type": "error",
     "traceback": [
      "\u001b[1;31m---------------------------------------------------------------------------\u001b[0m",
      "\u001b[1;31mRuntimeError\u001b[0m                              Traceback (most recent call last)",
      "Cell \u001b[1;32mIn[11], line 3\u001b[0m\n\u001b[0;32m      1\u001b[0m \u001b[38;5;66;03m# Initialize the circuits and run the experiment\u001b[39;00m\n\u001b[0;32m      2\u001b[0m circuit \u001b[38;5;241m=\u001b[39m wmi_qc_circuit()\n\u001b[1;32m----> 3\u001b[0m results \u001b[38;5;241m=\u001b[39m \u001b[43mwmi_qc_experiment\u001b[49m\u001b[43m(\u001b[49m\u001b[43mcircuit\u001b[49m\u001b[43m,\u001b[49m\u001b[43m \u001b[49m\u001b[43maccess_token\u001b[49m\u001b[43m)\u001b[49m\u001b[38;5;241m.\u001b[39mget_counts(binary\u001b[38;5;241m=\u001b[39m\u001b[38;5;28;01mTrue\u001b[39;00m)\n\u001b[0;32m      5\u001b[0m \u001b[38;5;66;03m# Plot experiment results\u001b[39;00m\n\u001b[0;32m      6\u001b[0m wmi_qc_plot(results)\n",
      "Cell \u001b[1;32mIn[9], line 4\u001b[0m, in \u001b[0;36mwmi_qc_experiment\u001b[1;34m(circuit, access_token)\u001b[0m\n\u001b[0;32m      1\u001b[0m \u001b[38;5;28;01mdef\u001b[39;00m \u001b[38;5;21mwmi_qc_experiment\u001b[39m(circuit: qib\u001b[38;5;241m.\u001b[39mCircuit, access_token: \u001b[38;5;28mstr\u001b[39m) \u001b[38;5;241m-\u001b[39m\u001b[38;5;241m>\u001b[39m qib\u001b[38;5;241m.\u001b[39mbackend\u001b[38;5;241m.\u001b[39mExperimentResults:\n\u001b[0;32m      2\u001b[0m     \u001b[38;5;66;03m# Processor & Experiment\u001b[39;00m\n\u001b[0;32m      3\u001b[0m     processor \u001b[38;5;241m=\u001b[39m qib\u001b[38;5;241m.\u001b[39mbackend\u001b[38;5;241m.\u001b[39mwmi\u001b[38;5;241m.\u001b[39mWMIQCProcessor(access_token\u001b[38;5;241m=\u001b[39maccess_token)\n\u001b[1;32m----> 4\u001b[0m     experiment \u001b[38;5;241m=\u001b[39m \u001b[43mprocessor\u001b[49m\u001b[38;5;241;43m.\u001b[39;49m\u001b[43msubmit_experiment\u001b[49m\u001b[43m(\u001b[49m\n\u001b[0;32m      5\u001b[0m \u001b[43m        \u001b[49m\u001b[43mname\u001b[49m\u001b[43m \u001b[49m\u001b[38;5;241;43m=\u001b[39;49m\u001b[43m \u001b[49m\u001b[38;5;124;43m'\u001b[39;49m\u001b[38;5;124;43mqib-integration-test-qc\u001b[39;49m\u001b[38;5;124;43m'\u001b[39;49m\u001b[43m,\u001b[49m\n\u001b[0;32m      6\u001b[0m \u001b[43m        \u001b[49m\u001b[43mcirc\u001b[49m\u001b[43m \u001b[49m\u001b[38;5;241;43m=\u001b[39;49m\u001b[43m \u001b[49m\u001b[43mcircuit\u001b[49m\u001b[43m)\u001b[49m\n\u001b[0;32m      7\u001b[0m     results \u001b[38;5;241m=\u001b[39m experiment\u001b[38;5;241m.\u001b[39mresults()\n\u001b[0;32m      8\u001b[0m     \u001b[38;5;28;01mreturn\u001b[39;00m results\n",
      "File \u001b[1;32mF:\\Projects\\tum-master-thesis\\development\\qib\\src\\qib\\backend\\wmi\\wmi_qc_processor.py:52\u001b[0m, in \u001b[0;36mWMIQCProcessor.submit_experiment\u001b[1;34m(self, name, circ, options)\u001b[0m\n\u001b[0;32m     50\u001b[0m \u001b[38;5;66;03m# request\u001b[39;00m\n\u001b[0;32m     51\u001b[0m response \u001b[38;5;241m=\u001b[39m \u001b[38;5;28mself\u001b[39m\u001b[38;5;241m.\u001b[39m_send_request(experiment)\n\u001b[1;32m---> 52\u001b[0m \u001b[38;5;28;43mself\u001b[39;49m\u001b[38;5;241;43m.\u001b[39;49m\u001b[43m_process_response\u001b[49m\u001b[43m(\u001b[49m\u001b[43mexperiment\u001b[49m\u001b[43m,\u001b[49m\u001b[43m \u001b[49m\u001b[43mresponse\u001b[49m\u001b[38;5;241;43m.\u001b[39;49m\u001b[43mjson\u001b[49m\u001b[43m(\u001b[49m\u001b[43m)\u001b[49m\u001b[43m)\u001b[49m\n\u001b[0;32m     53\u001b[0m \u001b[38;5;28;01mreturn\u001b[39;00m experiment\n",
      "File \u001b[1;32mF:\\Projects\\tum-master-thesis\\development\\qib\\src\\qib\\backend\\wmi\\wmi_qc_processor.py:65\u001b[0m, in \u001b[0;36mWMIQCProcessor._process_response\u001b[1;34m(self, experiment, response)\u001b[0m\n\u001b[0;32m     63\u001b[0m experiment\u001b[38;5;241m.\u001b[39mfrom_json(response)\n\u001b[0;32m     64\u001b[0m \u001b[38;5;28;01mif\u001b[39;00m experiment\u001b[38;5;241m.\u001b[39mstatus \u001b[38;5;241m==\u001b[39m ExperimentStatus\u001b[38;5;241m.\u001b[39mERROR:\n\u001b[1;32m---> 65\u001b[0m     \u001b[38;5;28;01mraise\u001b[39;00m \u001b[38;5;167;01mRuntimeError\u001b[39;00m(\u001b[38;5;124mf\u001b[39m\u001b[38;5;124m'\u001b[39m\u001b[38;5;124mExperiment could not be submitted: \u001b[39m\u001b[38;5;132;01m{\u001b[39;00mexperiment\u001b[38;5;241m.\u001b[39merror\u001b[38;5;132;01m}\u001b[39;00m\u001b[38;5;124m'\u001b[39m)\n",
      "\u001b[1;31mRuntimeError\u001b[0m: Experiment could not be submitted: The backend is offline."
     ]
    }
   ],
   "source": [
    "# Initialize the circuits and run the experiment\n",
    "circuit = wmi_qc_circuit()\n",
    "results = wmi_qc_experiment(circuit, access_token).get_counts(binary=True)\n",
    "\n",
    "# Plot experiment results\n",
    "wmi_qc_plot(results)"
   ]
  }
 ],
 "metadata": {
  "kernelspec": {
   "display_name": "quantum",
   "language": "python",
   "name": "python3"
  },
  "language_info": {
   "codemirror_mode": {
    "name": "ipython",
    "version": 3
   },
   "file_extension": ".py",
   "mimetype": "text/x-python",
   "name": "python",
   "nbconvert_exporter": "python",
   "pygments_lexer": "ipython3",
   "version": "3.10.13"
  }
 },
 "nbformat": 4,
 "nbformat_minor": 2
}
