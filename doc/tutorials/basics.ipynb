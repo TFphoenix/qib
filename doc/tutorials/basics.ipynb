{
 "cells": [
  {
   "cell_type": "markdown",
   "id": "65650297-b831-45e7-86b0-0a2d90387d4d",
   "metadata": {},
   "source": [
    "# _qib_ Basics"
   ]
  },
  {
   "cell_type": "markdown",
   "id": "b0693584-df6c-4d17-9361-51851081592f",
   "metadata": {},
   "source": [
    "In this basic example, we construct and \"run\" a quantum circuit which prepares a Bell state."
   ]
  },
  {
   "cell_type": "markdown",
   "id": "aefd38b0-53a8-4112-b751-1db69ad7b66e",
   "metadata": {},
   "source": [
    "## Circuit construction"
   ]
  },
  {
   "cell_type": "code",
   "execution_count": 1,
   "id": "87903792-9abf-4729-83be-6c76af58a0a6",
   "metadata": {},
   "outputs": [],
   "source": [
    "# import the qib package; see the README for installation instructions\n",
    "import qib"
   ]
  },
  {
   "cell_type": "markdown",
   "id": "4baee30e-62ad-4058-bb57-c273be0d4b99",
   "metadata": {},
   "source": [
    "As first step, we define a qubit \"field\" with two sites, which is essentially a quantum register containing two qubits. Fields can also host fermionic particles, for example, which will become relevant for defining chemistry Hamiltonians."
   ]
  },
  {
   "cell_type": "code",
   "execution_count": 2,
   "id": "7fc2e0fa-2dc9-4fef-8d31-0b28dceabc6b",
   "metadata": {},
   "outputs": [],
   "source": [
    "field = qib.field.Field(qib.field.ParticleType.QUBIT, qib.lattice.IntegerLattice((2,)))"
   ]
  },
  {
   "cell_type": "code",
   "execution_count": 3,
   "id": "4ab5ca44-7737-475f-9f0f-eb6978c36fdf",
   "metadata": {},
   "outputs": [],
   "source": [
    "# retrieve the two qubits of the field\n",
    "qa = qib.field.Qubit(field, 0)\n",
    "qb = qib.field.Qubit(field, 1)"
   ]
  },
  {
   "cell_type": "markdown",
   "id": "4df08523-a8e4-4cb8-989e-872d4939d728",
   "metadata": {},
   "source": [
    "Next, we define standard Hadamard and CNOT quantum gates and associate the qubits with them. In _qib_, gates contain a reference to the qubits which they act on."
   ]
  },
  {
   "cell_type": "code",
   "execution_count": 4,
   "id": "e35b8cfc-7479-4e91-a703-fd976ffaf435",
   "metadata": {},
   "outputs": [],
   "source": [
    "# Hadamard gate\n",
    "hadamard = qib.HadamardGate(qa)\n",
    "# CNOT gate\n",
    "cnot = qib.ControlledGate(qib.PauliXGate(qb), 1).set_control(qa)"
   ]
  },
  {
   "cell_type": "markdown",
   "id": "e54b1f6b-5a95-4c45-898e-5bae4052bfa7",
   "metadata": {},
   "source": [
    "We now construct a circuit out of the gates. The gates \"know\" already which qubits they are applied to."
   ]
  },
  {
   "cell_type": "code",
   "execution_count": 5,
   "id": "bae5dac2-6e7c-40b3-bb3d-22983280bd16",
   "metadata": {},
   "outputs": [],
   "source": [
    "circuit = qib.Circuit()\n",
    "circuit.append_gate(hadamard)\n",
    "circuit.append_gate(cnot)"
   ]
  },
  {
   "cell_type": "markdown",
   "id": "680088c1-e0cb-4b51-93ae-4f1844301437",
   "metadata": {},
   "source": [
    "The following code generates the matrix representation of the circuit.\n",
    "The list of fields passed as argument determines the logical ordering of the qubits."
   ]
  },
  {
   "cell_type": "code",
   "execution_count": 6,
   "id": "8a805bec-1cc4-4685-97c9-83212499925f",
   "metadata": {},
   "outputs": [
    {
     "data": {
      "text/plain": [
       "array([[ 0.70710678,  0.        ,  0.70710678,  0.        ],\n",
       "       [ 0.        ,  0.70710678,  0.        ,  0.70710678],\n",
       "       [ 0.        ,  0.70710678,  0.        , -0.70710678],\n",
       "       [ 0.70710678,  0.        , -0.70710678,  0.        ]])"
      ]
     },
     "execution_count": 6,
     "metadata": {},
     "output_type": "execute_result"
    }
   ],
   "source": [
    "circuit.as_matrix([field]).toarray()"
   ]
  },
  {
   "cell_type": "markdown",
   "id": "3607a22b-d01a-4923-80e9-03d314681e78",
   "metadata": {},
   "source": [
    "## Running the circuit"
   ]
  },
  {
   "cell_type": "markdown",
   "id": "64712ea2-15ca-4476-bfdd-764502d94f83",
   "metadata": {},
   "source": [
    "We use _qib_'s built-in statevector simulator to \"run\" the quantum circuit:"
   ]
  },
  {
   "cell_type": "code",
   "execution_count": 7,
   "id": "f4f78c92-113c-4699-ba4c-2e5c2bb6eb0d",
   "metadata": {},
   "outputs": [],
   "source": [
    "statesim = qib.simulator.StatevectorSimulator()"
   ]
  },
  {
   "cell_type": "code",
   "execution_count": 8,
   "id": "150912b4-e0c0-4a58-bf14-d569a9cc00ee",
   "metadata": {},
   "outputs": [],
   "source": [
    "ψ = statesim.run(circuit, [field], None)"
   ]
  },
  {
   "cell_type": "markdown",
   "id": "3d0b80a6-2bc9-4032-a784-e8355cd4f76d",
   "metadata": {},
   "source": [
    "As expected, ψ is a Bell state:"
   ]
  },
  {
   "cell_type": "code",
   "execution_count": 9,
   "id": "c3e5d4ab-e011-4a4f-a199-5fd012e7efbd",
   "metadata": {},
   "outputs": [
    {
     "data": {
      "text/plain": [
       "array([0.70710678, 0.        , 0.        , 0.70710678])"
      ]
     },
     "execution_count": 9,
     "metadata": {},
     "output_type": "execute_result"
    }
   ],
   "source": [
    "ψ"
   ]
  },
  {
   "cell_type": "markdown",
   "id": "1900519b-83f5-4b1d-9462-f392167157d0",
   "metadata": {},
   "source": [
    "Alternatively, _qib_ also implements a tensor network simulator:"
   ]
  },
  {
   "cell_type": "code",
   "execution_count": 10,
   "id": "387f7595-ddee-4ea6-9b35-49ee443ab806",
   "metadata": {},
   "outputs": [],
   "source": [
    "netsim = qib.simulator.TensorNetworkSimulator()"
   ]
  },
  {
   "cell_type": "code",
   "execution_count": 11,
   "id": "b7fb5cfa-47f7-4712-a0ad-c45efdbe17a6",
   "metadata": {},
   "outputs": [],
   "source": [
    "ψn = netsim.run(circuit, [field], None)"
   ]
  },
  {
   "cell_type": "markdown",
   "id": "c1375e25-4066-448c-9015-02110f64a701",
   "metadata": {},
   "source": [
    "The output quantum state is represented as tensor, using a tensor \"leg\" (or axis) for each qubit wire."
   ]
  },
  {
   "cell_type": "code",
   "execution_count": 12,
   "id": "969ebff8-e498-4c50-9e90-53a7a7e627af",
   "metadata": {},
   "outputs": [
    {
     "data": {
      "text/plain": [
       "array([[0.70710678, 0.        ],\n",
       "       [0.        , 0.70710678]])"
      ]
     },
     "execution_count": 12,
     "metadata": {},
     "output_type": "execute_result"
    }
   ],
   "source": [
    "ψn"
   ]
  },
  {
   "cell_type": "markdown",
   "id": "1d51e9eb-91d8-45d9-88c0-4cbc9bd52051",
   "metadata": {},
   "source": [
    "We obtain the usual statevector by flattening the tensor:"
   ]
  },
  {
   "cell_type": "code",
   "execution_count": 13,
   "id": "2d30bad6-dd5d-47a8-b6bc-c95f3128617d",
   "metadata": {},
   "outputs": [
    {
     "data": {
      "text/plain": [
       "array([0.70710678, 0.        , 0.        , 0.70710678])"
      ]
     },
     "execution_count": 13,
     "metadata": {},
     "output_type": "execute_result"
    }
   ],
   "source": [
    "ψn.reshape(-1)"
   ]
  }
 ],
 "metadata": {
  "kernelspec": {
   "display_name": "Python 3 (ipykernel)",
   "language": "python",
   "name": "python3"
  },
  "language_info": {
   "codemirror_mode": {
    "name": "ipython",
    "version": 3
   },
   "file_extension": ".py",
   "mimetype": "text/x-python",
   "name": "python",
   "nbconvert_exporter": "python",
   "pygments_lexer": "ipython3",
   "version": "3.10.7"
  }
 },
 "nbformat": 4,
 "nbformat_minor": 5
}
